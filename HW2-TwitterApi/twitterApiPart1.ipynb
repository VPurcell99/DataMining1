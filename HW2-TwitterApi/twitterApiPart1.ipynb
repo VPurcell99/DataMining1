{
 "metadata": {
  "language_info": {
   "codemirror_mode": {
    "name": "ipython",
    "version": 3
   },
   "file_extension": ".py",
   "mimetype": "text/x-python",
   "name": "python",
   "nbconvert_exporter": "python",
   "pygments_lexer": "ipython3",
   "version": "3.8.7"
  },
  "orig_nbformat": 2,
  "kernelspec": {
   "name": "python387jvsc74a57bd08701f80c374d04af0e91f6be4c5e64730e695461425753d44c3710c84263da43",
   "display_name": "Python 3.8.7 64-bit"
  }
 },
 "nbformat": 4,
 "nbformat_minor": 2,
 "cells": [
  {
   "cell_type": "code",
   "execution_count": 14,
   "metadata": {},
   "outputs": [],
   "source": [
    "import json\n",
    "\n",
    "import tweepy # conda friendly. Most starts of any tweeter API project on Github\n",
    "from IPython.core.display import HTML\n",
    "from IPython.display import display\n",
    "import config"
   ]
  },
  {
   "cell_type": "code",
   "execution_count": 15,
   "metadata": {},
   "outputs": [],
   "source": [
    "consumer_key = config.apiKey\n",
    "consumer_secret = config.apiSecretKey\n",
    "access_token = config.accessToken\n",
    "access_token_secret = config.accessTokenSecret\n",
    "\n",
    "auth = tweepy.OAuthHandler(consumer_key, consumer_secret)\n",
    "auth.set_access_token(access_token, access_token_secret)\n",
    "\n",
    "api = tweepy.API(auth)"
   ]
  },
  {
   "cell_type": "code",
   "execution_count": 16,
   "metadata": {},
   "outputs": [],
   "source": [
    "def get_tweets_from_twitterhandle(api, twitter_handle, number_of_tweets=100):\n",
    "    for count, tweet in enumerate(tweepy.Cursor(api.user_timeline, screen_name=twitter_handle, tweet_mode='extended').items(number_of_tweets), 1):\n",
    "        display(HTML('{}. ({}) {}'.format(count, tweet.created_at, tweet.full_text)))"
   ]
  },
  {
   "cell_type": "code",
   "execution_count": 17,
   "metadata": {},
   "outputs": [],
   "source": [
    "def get_tweets_from_search_term(api, query, number_of_tweets=100):\n",
    "    for count, tweet in enumerate(tweepy.Cursor(api.search, q=query, lang='en', tweet_mode='extended').items(number_of_tweets), 1):\n",
    "        display(HTML('{}. ({} by {}) {}'.format(count, tweet.created_at, tweet.author.screen_name, tweet.full_text)))"
   ]
  },
  {
   "cell_type": "code",
   "execution_count": 18,
   "metadata": {},
   "outputs": [
    {
     "output_type": "display_data",
     "data": {
      "text/plain": "<IPython.core.display.HTML object>",
      "text/html": "1. (2021-05-24 21:14:28) Today would have been Timmy Brown’s 84th birthday.\n\nA dynamic playmaker, Brown was the first player in NFL history to return two kickoffs for touchdowns in the same game. https://t.co/FDEMON9dtL"
     },
     "metadata": {}
    },
    {
     "output_type": "display_data",
     "data": {
      "text/plain": "<IPython.core.display.HTML object>",
      "text/html": "2. (2021-05-24 20:18:05) .@CoachWEFritz says the Eagles got a steal in Patrick Johnson.\n\nPowered by @MicrosoftTeams | #FlyEaglesFly https://t.co/b6hdOneebo"
     },
     "metadata": {}
    },
    {
     "output_type": "display_data",
     "data": {
      "text/plain": "<IPython.core.display.HTML object>",
      "text/html": "3. (2021-05-24 19:46:26) .@RyanKerrigan91 didn’t have to go far to find a new home.\n\n#FlyEaglesFly https://t.co/elrZhC07uI"
     },
     "metadata": {}
    },
    {
     "output_type": "display_data",
     "data": {
      "text/plain": "<IPython.core.display.HTML object>",
      "text/html": "4. (2021-05-24 18:42:18) @archipasty97 @DeVontaSmith_6 #EaglesEverywhere really rep the squad… well, everywhere."
     },
     "metadata": {}
    },
    {
     "output_type": "display_data",
     "data": {
      "text/plain": "<IPython.core.display.HTML object>",
      "text/html": "5. (2021-05-24 17:56:04) Watch live as DE Ryan Kerrigan speaks to the media. https://t.co/a1m39if3JB"
     },
     "metadata": {}
    },
    {
     "output_type": "display_data",
     "data": {
      "text/plain": "<IPython.core.display.HTML object>",
      "text/html": "6. (2021-05-24 17:11:46) Welcome back to touchdowns! @AmericanAir is sending a lucky fan to watch us play away from home.\n\nDon’t forget to enter to win a trip to an Eagles away game of your choice at https://t.co/AcNQflOO3a!\n\nNo purch nec. Open to U.S. residents, 18+. Ends 6/5/21. https://t.co/XCPsZtmdN2"
     },
     "metadata": {}
    },
    {
     "output_type": "display_data",
     "data": {
      "text/plain": "<IPython.core.display.HTML object>",
      "text/html": "7. (2021-05-24 16:33:40) RT @REllisSports: Wanna know how the Eagles Cowboys rivalry started? Re-Live biggest moments like NFC Camp Gm, Pickle Juice Game. Hear from…"
     },
     "metadata": {}
    },
    {
     "output_type": "display_data",
     "data": {
      "text/plain": "<IPython.core.display.HTML object>",
      "text/html": "8. (2021-05-24 16:23:18) RT @RealDGunn: It’s one of the most heated rivalries in all of pro sports. Also add in great moments, and great plays. Hear from those who…"
     },
     "metadata": {}
    },
    {
     "output_type": "display_data",
     "data": {
      "text/plain": "<IPython.core.display.HTML object>",
      "text/html": "9. (2021-05-24 16:02:00) Our second season of Return Game takes you inside one of the best rivalries in all of sports as we break down Birds, ‘Boys, and Bad Blood.\n\n@novacare | #FlyEaglesFly"
     },
     "metadata": {}
    },
    {
     "output_type": "display_data",
     "data": {
      "text/plain": "<IPython.core.display.HTML object>",
      "text/html": "10. (2021-05-24 14:53:04) Welcome aboard, @RyanKerrigan91!\n\n#FlyEaglesFly https://t.co/sQXD2hlask"
     },
     "metadata": {}
    },
    {
     "output_type": "display_data",
     "data": {
      "text/plain": "<IPython.core.display.HTML object>",
      "text/html": "11. (2021-05-23 16:20:20) We proudly teamed up with @Gatorade to help provide food, sports drinks, and equipment to 73 Philadelphia Public League sports programs during a recent drive-thru distribution event.\n\n#FlyEaglesFly https://t.co/qKXb4G8wHI"
     },
     "metadata": {}
    },
    {
     "output_type": "display_data",
     "data": {
      "text/plain": "<IPython.core.display.HTML object>",
      "text/html": "12. (2021-05-23 14:42:11) Good luck in the playoffs, @sixers!\n\nFYI, SWOOP is on standby, ready to fill in if needed.\n\n#PhilaUnite | #BrotherlyLove https://t.co/Z0Xv5m86Tn"
     },
     "metadata": {}
    },
    {
     "output_type": "display_data",
     "data": {
      "text/plain": "<IPython.core.display.HTML object>",
      "text/html": "13. (2021-05-22 18:59:43) Hustle. Intensity. Takeaways. Smart.\n\nLearn more about Jonathan Gannon’s formula for a successful defense.\n\n#FlyEaglesFly"
     },
     "metadata": {}
    },
    {
     "output_type": "display_data",
     "data": {
      "text/plain": "<IPython.core.display.HTML object>",
      "text/html": "14. (2021-05-22 16:06:33) The work is just beginning.\n\n#FlyEaglesFly https://t.co/HLdisjlBB8"
     },
     "metadata": {}
    },
    {
     "output_type": "display_data",
     "data": {
      "text/plain": "<IPython.core.display.HTML object>",
      "text/html": "15. (2021-05-22 14:00:17) Look back on @DeVontaSmith_6's journey to Philly.\n\n@LifeBrand_AI | #FlyEaglesFly"
     },
     "metadata": {}
    },
    {
     "output_type": "display_data",
     "data": {
      "text/plain": "<IPython.core.display.HTML object>",
      "text/html": "16. (2021-05-21 20:48:54) Our offseason program is in full swing on the latest Eagles 360, presented by @Xfinity.\n\n#FlyEaglesFly https://t.co/Ef0lSfAXlQ"
     },
     "metadata": {}
    },
    {
     "output_type": "display_data",
     "data": {
      "text/plain": "<IPython.core.display.HTML object>",
      "text/html": "17. (2021-05-21 19:43:55) Embrace the grind.\n\n#FlyEaglesFly https://t.co/C4T4OVRTIW"
     },
     "metadata": {}
    },
    {
     "output_type": "display_data",
     "data": {
      "text/plain": "<IPython.core.display.HTML object>",
      "text/html": "18. (2021-05-21 18:47:39) .@brandongraham55 is all of us seeing @bbrooks_79 back on the field.\n\n#FlyEaglesFly https://t.co/jCxMNKqQXB"
     },
     "metadata": {}
    },
    {
     "output_type": "display_data",
     "data": {
      "text/plain": "<IPython.core.display.HTML object>",
      "text/html": "19. (2021-05-21 17:56:50) Run, @BoobieMilesXXIV, run.\n\n#FlyEaglesFly https://t.co/VHZWaKfQJI"
     },
     "metadata": {}
    },
    {
     "output_type": "display_data",
     "data": {
      "text/plain": "<IPython.core.display.HTML object>",
      "text/html": "20. (2021-05-21 17:22:26) “He is going to empty his tank on the football field.”\n\n@CoachChadwell breaks down Tarron Jackson’s leadership and relentless effort.\n\nPowered by @MicrosoftTeams | #FlyEaglesFly https://t.co/XlMsfBuXfw"
     },
     "metadata": {}
    },
    {
     "output_type": "display_data",
     "data": {
      "text/plain": "<IPython.core.display.HTML object>",
      "text/html": "21. (2021-05-21 16:37:23) .@JalenHurts is hungry heading into his sophomore season.\n\n#FlyEaglesFly"
     },
     "metadata": {}
    },
    {
     "output_type": "display_data",
     "data": {
      "text/plain": "<IPython.core.display.HTML object>",
      "text/html": "22. (2021-05-21 15:07:37) RT @EaglesXOs: One of my favorite Journey To The Draft Podcasts of the year just went up\n\nFollow DeVonta Smith's path from #Alabama to the…"
     },
     "metadata": {}
    },
    {
     "output_type": "display_data",
     "data": {
      "text/plain": "<IPython.core.display.HTML object>",
      "text/html": "23. (2021-05-21 14:02:17) Yesterday we fulfilled a donation of more than $330,000 in food, drinks, and equipment to @pplathletics for student-athletes returning to sports."
     },
     "metadata": {}
    },
    {
     "output_type": "display_data",
     "data": {
      "text/plain": "<IPython.core.display.HTML object>",
      "text/html": "24. (2021-05-20 20:39:20) .@JalenHurts is locked in.\n\n#FlyEaglesFly https://t.co/Gds5OKiHdV"
     },
     "metadata": {}
    },
    {
     "output_type": "display_data",
     "data": {
      "text/plain": "<IPython.core.display.HTML object>",
      "text/html": "25. (2021-05-20 19:48:12) Watch live as Special Teams Coordinator Michael Clay speaks to the media during OTAs. https://t.co/2HUpGizikw"
     },
     "metadata": {}
    }
   ],
   "source": [
    "get_tweets_from_twitterhandle(api, 'Eagles', 25)"
   ]
  },
  {
   "cell_type": "code",
   "execution_count": 19,
   "metadata": {},
   "outputs": [
    {
     "output_type": "display_data",
     "data": {
      "text/plain": "<IPython.core.display.HTML object>",
      "text/html": "1. (2021-05-24 20:30:00) Soon to be wearing yellow and black...\n\nEvery @steelers 2021 @NFLDraft pick! https://t.co/d2j2Aad87z"
     },
     "metadata": {}
    },
    {
     "output_type": "display_data",
     "data": {
      "text/plain": "<IPython.core.display.HTML object>",
      "text/html": "2. (2021-05-24 19:50:03) RT @Chargers: 😂😂😂\n\nwelcome back, guys https://t.co/KGUbF2NeCY"
     },
     "metadata": {}
    },
    {
     "output_type": "display_data",
     "data": {
      "text/plain": "<IPython.core.display.HTML object>",
      "text/html": "3. (2021-05-24 18:30:00) Football is family. ❤️\n\nHappy National Brother's Day!"
     },
     "metadata": {}
    },
    {
     "output_type": "display_data",
     "data": {
      "text/plain": "<IPython.core.display.HTML object>",
      "text/html": "4. (2021-05-24 18:05:26) RT @NFL345: NFL statement on Eugene Chung allegations\n\nMore: https://t.co/AizSBGpsXP"
     },
     "metadata": {}
    },
    {
     "output_type": "display_data",
     "data": {
      "text/plain": "<IPython.core.display.HTML object>",
      "text/html": "5. (2021-05-24 16:59:11) You got this, TJ. ❤️🙏 https://t.co/kNxprk5WbN"
     },
     "metadata": {}
    },
    {
     "output_type": "display_data",
     "data": {
      "text/plain": "<IPython.core.display.HTML object>",
      "text/html": "6. (2021-05-24 16:30:00) To honor his late sister Ella, @Raiders DL @SollyThomas90 launched @TDefensiveLine Foundation to help bring mental health services to underserved communities. 🙏 (via @PlayersTribune)"
     },
     "metadata": {}
    },
    {
     "output_type": "display_data",
     "data": {
      "text/plain": "<IPython.core.display.HTML object>",
      "text/html": "7. (2021-05-24 14:30:00) Who else is ready to see @obj back in 2021? 🙌 https://t.co/ND0oPYQ4je"
     },
     "metadata": {}
    },
    {
     "output_type": "display_data",
     "data": {
      "text/plain": "<IPython.core.display.HTML object>",
      "text/html": "8. (2021-05-24 12:30:00) Grade the @Giants' 2021 @NFLDraft class: ____________\n\n✍️✍️✍️ https://t.co/PFbcZBTanf"
     },
     "metadata": {}
    },
    {
     "output_type": "display_data",
     "data": {
      "text/plain": "<IPython.core.display.HTML object>",
      "text/html": "9. (2021-05-24 00:30:00) He can run. He can catch. He can block.\n\nNajee Harris' versatility has @MoveTheSticks fired up for the new @steelers RB. 🔥 @ohthatsNajee22 https://t.co/eb6kCN4xP1"
     },
     "metadata": {}
    },
    {
     "output_type": "display_data",
     "data": {
      "text/plain": "<IPython.core.display.HTML object>",
      "text/html": "10. (2021-05-23 21:30:00) 📯 SKOL 📯\n\nEvery @Vikings 2021 @NFLDraft selection! https://t.co/5uVzSdFVsd"
     },
     "metadata": {}
    },
    {
     "output_type": "display_data",
     "data": {
      "text/plain": "<IPython.core.display.HTML object>",
      "text/html": "11. (2021-05-23 20:55:38) RT @nflthrowback: The best of @JerryRice 🆚 @DeionSanders https://t.co/8v1mLCabMQ"
     },
     "metadata": {}
    },
    {
     "output_type": "display_data",
     "data": {
      "text/plain": "<IPython.core.display.HTML object>",
      "text/html": "12. (2021-05-23 18:30:14) A spooky matchup in the AFC North.\n\nThe @steelers take on the @Browns on Halloween. 🎃 https://t.co/dCV95xQ04s"
     },
     "metadata": {}
    },
    {
     "output_type": "display_data",
     "data": {
      "text/plain": "<IPython.core.display.HTML object>",
      "text/html": "13. (2021-05-23 15:30:00) All of the @WashingtonNFL picks from the 2021 @NFLDraft!\n\nWhich draftee is your favorite? https://t.co/BRJJtgCMlT"
     },
     "metadata": {}
    },
    {
     "output_type": "display_data",
     "data": {
      "text/plain": "<IPython.core.display.HTML object>",
      "text/html": "14. (2021-05-23 14:12:54) Remember when @AaronDonald97 put up 20.5 sacks in 2018?!\n\nHappy birthday to the 3x DPOY &amp; 7x Pro Bowler! 💪🎂 https://t.co/o7ZGdnHcEz"
     },
     "metadata": {}
    },
    {
     "output_type": "display_data",
     "data": {
      "text/plain": "<IPython.core.display.HTML object>",
      "text/html": "15. (2021-05-23 00:30:08) .@JalenHurts &amp; @DeVontaSmith_6 🦅\n@jerryjeudy &amp; @PatSurtainll 🐴\n\nFormer @AlabamaFTBL teammates square off in Week 10. https://t.co/EfGvHehwQJ"
     },
     "metadata": {}
    }
   ],
   "source": [
    "get_tweets_from_twitterhandle(api, 'NFL', 15)"
   ]
  }
 ]
}