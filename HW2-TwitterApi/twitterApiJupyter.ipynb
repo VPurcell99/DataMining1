{
 "metadata": {
  "language_info": {
   "codemirror_mode": {
    "name": "ipython",
    "version": 3
   },
   "file_extension": ".py",
   "mimetype": "text/x-python",
   "name": "python",
   "nbconvert_exporter": "python",
   "pygments_lexer": "ipython3",
   "version": "3.8.7"
  },
  "orig_nbformat": 2,
  "kernelspec": {
   "name": "python387jvsc74a57bd08701f80c374d04af0e91f6be4c5e64730e695461425753d44c3710c84263da43",
   "display_name": "Python 3.8.7 64-bit"
  }
 },
 "nbformat": 4,
 "nbformat_minor": 2,
 "cells": [
  {
   "cell_type": "code",
   "execution_count": null,
   "metadata": {},
   "outputs": [],
   "source": [
    "# Vincent Purcell\n",
    "# Data Mining 1 - Summer 2021 - HW2\n",
    "# Some of the code was taken and modified from Professor Breitzman's code"
   ]
  },
  {
   "cell_type": "code",
   "execution_count": 16,
   "metadata": {},
   "outputs": [],
   "source": [
    "import json\n",
    "\n",
    "import tweepy # conda friendly. Most starts of any tweeter API project on Github\n",
    "from IPython.core.display import HTML\n",
    "from IPython.display import display\n",
    "import config"
   ]
  },
  {
   "cell_type": "code",
   "execution_count": 17,
   "metadata": {},
   "outputs": [],
   "source": [
    "consumer_key = config.apiKey\n",
    "consumer_secret = config.apiSecretKey\n",
    "access_token = config.accessToken\n",
    "access_token_secret = config.accessTokenSecret\n",
    "\n",
    "auth = tweepy.OAuthHandler(consumer_key, consumer_secret)\n",
    "auth.set_access_token(access_token, access_token_secret)\n",
    "\n",
    "api = tweepy.API(auth)"
   ]
  },
  {
   "cell_type": "code",
   "execution_count": 18,
   "metadata": {},
   "outputs": [],
   "source": [
    "def get_tweets_from_twitterhandle(api, twitter_handle, number_of_tweets=100):\n",
    "    for count, tweet in enumerate(tweepy.Cursor(api.user_timeline, screen_name=twitter_handle, tweet_mode='extended').items(number_of_tweets), 1):\n",
    "        display(HTML('{}. ({}) {}'.format(count, tweet.created_at, tweet.full_text)))"
   ]
  },
  {
   "cell_type": "code",
   "execution_count": 19,
   "metadata": {},
   "outputs": [],
   "source": [
    "def get_tweets_from_search_term(api, query, number_of_tweets=100):\n",
    "    for count, tweet in enumerate(tweepy.Cursor(api.search, q=query, lang='en', tweet_mode='extended').items(number_of_tweets), 1):\n",
    "        display(HTML('{}. ({} by {}) {}'.format(count, tweet.created_at, tweet.author.screen_name, tweet.full_text)))"
   ]
  },
  {
   "cell_type": "code",
   "execution_count": 20,
   "metadata": {},
   "outputs": [],
   "source": [
    "def get_followers_from_twitterhandle(api, twitter_handle, amount=20):\n",
    "    display(HTML('{} Most Recent Followers of {}'.format(amount, twitter_handle)))\n",
    "    for count, follower in enumerate(tweepy.Cursor(api.followers, screen_name=twitter_handle).items(amount)):\n",
    "        display(HTML('{}. {}'.format(count+1, follower.screen_name)))"
   ]
  },
  {
   "cell_type": "code",
   "execution_count": 21,
   "metadata": {},
   "outputs": [
    {
     "output_type": "display_data",
     "data": {
      "text/plain": "<IPython.core.display.HTML object>",
      "text/html": "1. (2021-05-26 19:57:44) When we finally see Eagles fans again: https://t.co/9ezcbHEcqP"
     },
     "metadata": {}
    },
    {
     "output_type": "display_data",
     "data": {
      "text/plain": "<IPython.core.display.HTML object>",
      "text/html": "2. (2021-05-26 19:07:24) Back where we belong.\n\n#WallpaperWednesday | #FlyEaglesFly https://t.co/Zd3o0xi5OZ"
     },
     "metadata": {}
    },
    {
     "output_type": "display_data",
     "data": {
      "text/plain": "<IPython.core.display.HTML object>",
      "text/html": "3. (2021-05-26 17:50:05) Watch live as CB Darius Slay speaks to the media during OTAs. https://t.co/XpXxw2bTpa"
     },
     "metadata": {}
    },
    {
     "output_type": "display_data",
     "data": {
      "text/plain": "<IPython.core.display.HTML object>",
      "text/html": "4. (2021-05-26 17:41:33) Watch live as WR Greg Ward speaks to the media during OTAs. https://t.co/zeEQ8TnVf5"
     },
     "metadata": {}
    },
    {
     "output_type": "display_data",
     "data": {
      "text/plain": "<IPython.core.display.HTML object>",
      "text/html": "5. (2021-05-26 17:17:07) Watch live as S Rodney McLeod speaks to the media during OTAs. https://t.co/XrgZsDYNoh"
     },
     "metadata": {}
    },
    {
     "output_type": "display_data",
     "data": {
      "text/plain": "<IPython.core.display.HTML object>",
      "text/html": "6. (2021-05-26 17:03:41) Watch live as S Anthony Harris speaks to the media during OTAs. https://t.co/TTwIuJss0n"
     },
     "metadata": {}
    },
    {
     "output_type": "display_data",
     "data": {
      "text/plain": "<IPython.core.display.HTML object>",
      "text/html": "7. (2021-05-26 16:54:04) Watch live as DT Javon Hargrave speaks to the media during OTAs. https://t.co/AZMXAtjW4b"
     },
     "metadata": {}
    },
    {
     "output_type": "display_data",
     "data": {
      "text/plain": "<IPython.core.display.HTML object>",
      "text/html": "8. (2021-05-26 14:31:23) We’ll hold two public practices at @LFFStadium on August 8th and August 22nd! Tickets benefitting @eaglesautism Foundation go on sale Wednesday, June 2nd."
     },
     "metadata": {}
    },
    {
     "output_type": "display_data",
     "data": {
      "text/plain": "<IPython.core.display.HTML object>",
      "text/html": "9. (2021-05-26 00:20:30) .@LaneJohnson65 tells @EaglesInsider that he’s eager to prove the doubters wrong in 2021.\n\n#FlyEaglesFly https://t.co/pXgSwTcgKZ"
     },
     "metadata": {}
    },
    {
     "output_type": "display_data",
     "data": {
      "text/plain": "<IPython.core.display.HTML object>",
      "text/html": "10. (2021-05-25 21:45:16) More football for your feed.\n\n@BoobieMilesXXIV | #FlyEaglesFly https://t.co/BiICgpZxtv"
     },
     "metadata": {}
    }
   ],
   "source": [
    "get_tweets_from_twitterhandle(api, 'Eagles', 10)"
   ]
  },
  {
   "cell_type": "code",
   "execution_count": 22,
   "metadata": {},
   "outputs": [
    {
     "output_type": "display_data",
     "data": {
      "text/plain": "<IPython.core.display.HTML object>",
      "text/html": "15 Most Recent Followers of NFL"
     },
     "metadata": {}
    },
    {
     "output_type": "display_data",
     "data": {
      "text/plain": "<IPython.core.display.HTML object>",
      "text/html": "1. KebedeYohanns"
     },
     "metadata": {}
    },
    {
     "output_type": "display_data",
     "data": {
      "text/plain": "<IPython.core.display.HTML object>",
      "text/html": "2. ynw_ki"
     },
     "metadata": {}
    },
    {
     "output_type": "display_data",
     "data": {
      "text/plain": "<IPython.core.display.HTML object>",
      "text/html": "3. paul44529007"
     },
     "metadata": {}
    },
    {
     "output_type": "display_data",
     "data": {
      "text/plain": "<IPython.core.display.HTML object>",
      "text/html": "4. oxfMZByBUKF5n7T"
     },
     "metadata": {}
    },
    {
     "output_type": "display_data",
     "data": {
      "text/plain": "<IPython.core.display.HTML object>",
      "text/html": "5. CaPunchie"
     },
     "metadata": {}
    },
    {
     "output_type": "display_data",
     "data": {
      "text/plain": "<IPython.core.display.HTML object>",
      "text/html": "6. darksta62626117"
     },
     "metadata": {}
    },
    {
     "output_type": "display_data",
     "data": {
      "text/plain": "<IPython.core.display.HTML object>",
      "text/html": "7. AssadiOns"
     },
     "metadata": {}
    },
    {
     "output_type": "display_data",
     "data": {
      "text/plain": "<IPython.core.display.HTML object>",
      "text/html": "8. ryan09981871"
     },
     "metadata": {}
    },
    {
     "output_type": "display_data",
     "data": {
      "text/plain": "<IPython.core.display.HTML object>",
      "text/html": "9. briny_esquivelg"
     },
     "metadata": {}
    },
    {
     "output_type": "display_data",
     "data": {
      "text/plain": "<IPython.core.display.HTML object>",
      "text/html": "10. Rodneygd31"
     },
     "metadata": {}
    },
    {
     "output_type": "display_data",
     "data": {
      "text/plain": "<IPython.core.display.HTML object>",
      "text/html": "11. PiececontrolB"
     },
     "metadata": {}
    },
    {
     "output_type": "display_data",
     "data": {
      "text/plain": "<IPython.core.display.HTML object>",
      "text/html": "12. gianni71043463"
     },
     "metadata": {}
    },
    {
     "output_type": "display_data",
     "data": {
      "text/plain": "<IPython.core.display.HTML object>",
      "text/html": "13. AntonioColson"
     },
     "metadata": {}
    },
    {
     "output_type": "display_data",
     "data": {
      "text/plain": "<IPython.core.display.HTML object>",
      "text/html": "14. AdamFol12922678"
     },
     "metadata": {}
    },
    {
     "output_type": "display_data",
     "data": {
      "text/plain": "<IPython.core.display.HTML object>",
      "text/html": "15. JoeyLee99978835"
     },
     "metadata": {}
    }
   ],
   "source": [
    "get_followers_from_twitterhandle(api, 'NFL', 15)"
   ]
  }
 ]
}