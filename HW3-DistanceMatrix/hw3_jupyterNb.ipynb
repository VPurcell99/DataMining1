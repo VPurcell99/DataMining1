{
 "metadata": {
  "language_info": {
   "codemirror_mode": {
    "name": "ipython",
    "version": 3
   },
   "file_extension": ".py",
   "mimetype": "text/x-python",
   "name": "python",
   "nbconvert_exporter": "python",
   "pygments_lexer": "ipython3",
   "version": "3.8.7"
  },
  "orig_nbformat": 2,
  "kernelspec": {
   "name": "python387jvsc74a57bd08701f80c374d04af0e91f6be4c5e64730e695461425753d44c3710c84263da43",
   "display_name": "Python 3.8.7 64-bit"
  }
 },
 "nbformat": 4,
 "nbformat_minor": 2,
 "cells": [
  {
   "cell_type": "code",
   "execution_count": 18,
   "metadata": {},
   "outputs": [],
   "source": [
    "import numpy as np\n",
    "from numpy.ma import zeros\n",
    "import matrixData\n",
    "import re"
   ]
  },
  {
   "cell_type": "code",
   "execution_count": 19,
   "metadata": {},
   "outputs": [],
   "source": [
    "def matprint(mat, fmt=\"g\"):\n",
    "    col_maxes = [max([len((\"{:\"+fmt+\"}\").format(x)) for x in col]) for col in mat.T]\n",
    "    for x in mat:\n",
    "        for i, y in enumerate(x):\n",
    "            print((\"{:\"+str(col_maxes[i])+fmt+\"}\").format(y), end=\"  \")\n",
    "        print(\"\")"
   ]
  },
  {
   "cell_type": "code",
   "execution_count": 20,
   "metadata": {},
   "outputs": [],
   "source": [
    "def binarySim(mat):\n",
    "    row, col = mat.shape\n",
    "    for feature in range(col):\n",
    "        sim_mat = zeros((len(mat), len(mat)))\n",
    "        for x in range(len(sim_mat)):\n",
    "            for y in range(len(sim_mat)):\n",
    "                if mat[x][feature] == mat[y][feature]:\n",
    "                    sim_mat[x][y] = sim_mat[x][y] + 1\n",
    "    sim_mat = sim_mat / col\n",
    "    return sim_mat"
   ]
  },
  {
   "cell_type": "code",
   "execution_count": 22,
   "metadata": {},
   "outputs": [
    {
     "output_type": "stream",
     "name": "stdout",
     "text": [
      "Binary Gender Data Similarity Matrix\n1  0  0  1  0  1  \n0  1  1  0  1  0  \n0  1  1  0  1  0  \n1  0  0  1  0  1  \n0  1  1  0  1  0  \n1  0  0  1  0  1  \n"
     ]
    }
   ],
   "source": [
    "gender_sim = binarySim(matrixData.gender)\n",
    "print(\"Binary Gender Data Similarity Matrix\")\n",
    "matprint(gender_sim)"
   ]
  },
  {
   "cell_type": "code",
   "execution_count": null,
   "metadata": {},
   "outputs": [],
   "source": []
  }
 ]
}